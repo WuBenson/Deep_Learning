{
 "cells": [
  {
   "cell_type": "code",
   "execution_count": 1,
   "metadata": {},
   "outputs": [],
   "source": [
    "import numpy as np\n",
    "import matplotlib.pyplot as plt\n",
    "%matplotlib inline\n",
    "plt.style.use('ggplot')"
   ]
  },
  {
   "cell_type": "code",
   "execution_count": 2,
   "metadata": {},
   "outputs": [],
   "source": [
    "def show_result(x, y, pred_y):\n",
    "    plt.subplot(1, 2, 1)\n",
    "    plt.title('Ground truth', fontsize=18)\n",
    "    plt.scatter(x[np.where(y == 0)[0], 0], x[np.where(y == 0)[0], 1])\n",
    "    plt.scatter(x[np.where(y == 1)[0], 0], x[np.where(y == 1)[0], 1])\n",
    "    \n",
    "    plt.subplot(1, 2, 2)\n",
    "    plt.title('Predict result', fontsize=18)\n",
    "    plt.scatter(x[np.where(pred_y == 0)[0], 0], x[np.where(pred_y == 0)[0], 1])\n",
    "    plt.scatter(x[np.where(pred_y == 1)[0], 0], x[np.where(pred_y == 1)[0], 1])\n",
    "    plt.show()"
   ]
  },
  {
   "cell_type": "code",
   "execution_count": 3,
   "metadata": {},
   "outputs": [],
   "source": [
    "def generate_linear(n=1000):\n",
    "    pts = np.random.uniform(0, 1, (n, 2))\n",
    "    inputs = []\n",
    "    labels = []\n",
    "    for pt in pts:\n",
    "        inputs.append([pt[0], pt[1]])\n",
    "        distance = (pt[0] - pt[1]) / 1.414\n",
    "        if pt[0] > pt[1]:\n",
    "            labels.append(0)\n",
    "        else:\n",
    "            labels.append(1)\n",
    "    return np.array(inputs), np.array(labels).reshape(n, 1)"
   ]
  },
  {
   "cell_type": "code",
   "execution_count": 4,
   "metadata": {},
   "outputs": [],
   "source": [
    "def generate_XOR_easy():\n",
    "    inputs = []\n",
    "    labels = []\n",
    "    for i in range(11):\n",
    "        inputs.append([0.1*i, 0.1*i])\n",
    "        labels.append(0)\n",
    "        if 0.1*i == 0.5:\n",
    "            continue\n",
    "        inputs.append([0.1*i, 1-0.1*i])\n",
    "        labels.append(1)\n",
    "    return np.array(inputs), np.array(labels).reshape(21, 1)"
   ]
  },
  {
   "cell_type": "code",
   "execution_count": 5,
   "metadata": {},
   "outputs": [],
   "source": [
    "x, y = generate_XOR_easy()"
   ]
  },
  {
   "cell_type": "code",
   "execution_count": 6,
   "metadata": {},
   "outputs": [
    {
     "data": {
      "image/png": "[encoded data removed]",
      "text/plain": [
       "<Figure size 432x288 with 1 Axes>"
      ]
     },
     "metadata": {
      "needs_background": "light"
     },
     "output_type": "display_data"
    }
   ],
   "source": [
    "plt.scatter(x[np.where(y==1)[0], 0], x[np.where(y==1)[0], 1])\n",
    "plt.scatter(x[np.where(y==0)[0], 0], x[np.where(y==0)[0], 1])\n",
    "plt.show()"
   ]
  },
  {
   "cell_type": "code",
   "execution_count": 7,
   "metadata": {},
   "outputs": [],
   "source": [
    "class Net():\n",
    "    def __init__(self, input_size, hidden1_size, hidden2_size, output_size, lr):\n",
    "        self.inodes = input_size\n",
    "        self.h1nodes = hidden1_size\n",
    "        self.h2nodes = hidden2_size\n",
    "        self.onodes = output_size\n",
    "        self.wih = np.random.randn(self.inodes, self.h1nodes)\n",
    "        self.whh = np.random.randn(self.h1nodes, self.h2nodes)\n",
    "        self.who = np.random.randn(self.h2nodes, self.onodes)\n",
    "        self.lr = lr\n",
    "        self.sigmoid = lambda x: 1/(1+np.exp(-x))\n",
    "        \n",
    "    def train(self, inputs, targets):\n",
    "        for epoch in range(1, 1001):\n",
    "            hidden_inputs = np.dot(inputs, self.wih)\n",
    "            hidden_outputs = self.sigmoid(hidden_inputs)\n",
    "\n",
    "            hidden2_inputs = np.dot(hidden_outputs, self.whh)\n",
    "            hidden2_outputs = self.sigmoid(hidden2_inputs)\n",
    "            \n",
    "            final_inputs = np.dot(hidden2_outputs, self.who)\n",
    "            final_outputs = self.sigmoid(final_inputs)\n",
    "\n",
    "            error = (targets - final_outputs) ** 2\n",
    "            derr = -2 * (targets - final_outputs)\n",
    "            hidden2_error = np.dot(derr, self.who.T)\n",
    "            hidden_error = np.dot(hidden2_error, self.whh.T)\n",
    "            \n",
    "            self.who -= self.lr * np.dot(hidden2_outputs.T, (derr * final_outputs * (1.0 - final_outputs)))\n",
    "            self.whh -= self.lr * np.dot(hidden_outputs.T, (hidden2_error * hidden2_outputs * (1.0 - hidden2_outputs)))\n",
    "            self.wih -= self.lr * np.dot(inputs.T, (hidden_error * hidden_outputs * (1.0 - hidden_outputs)))\n",
    "\n",
    "            if epoch % 100 == 0:\n",
    "                acc = len(np.where(final_outputs.round(0) == targets)[0]) / len(final_outputs)\n",
    "                print('epoch {:4d} loss : {:13s} Acc : {:3.2f}'.format(epoch, str(np.sum(error, axis=0)), acc))\n",
    "        \n",
    "    def query(self, inputs):\n",
    "        hidden_inputs = np.dot(inputs, self.wih)\n",
    "        hidden_outputs = self.sigmoid(hidden_inputs)\n",
    "        \n",
    "        hidden2_inputs = np.dot(hidden_outputs, self.whh)\n",
    "        hidden2_outputs = self.sigmoid(hidden2_inputs)\n",
    "        \n",
    "        final_inputs = np.dot(hidden2_outputs, self.who)\n",
    "        final_outputs = self.sigmoid(final_inputs)\n",
    "        return final_outputs"
   ]
  },
  {
   "cell_type": "code",
   "execution_count": 8,
   "metadata": {},
   "outputs": [],
   "source": [
    "net = Net(2, 4, 4, 1, 0.1)"
   ]
  },
  {
   "cell_type": "code",
   "execution_count": 9,
   "metadata": {},
   "outputs": [
    {
     "name": "stdout",
     "output_type": "stream",
     "text": [
      "epoch  100 loss : [5.08419301]  Acc : 0.71\n",
      "epoch  200 loss : [4.29089734]  Acc : 0.71\n",
      "epoch  300 loss : [3.65885376]  Acc : 0.76\n",
      "epoch  400 loss : [0.4734548]   Acc : 1.00\n",
      "epoch  500 loss : [0.05320783]  Acc : 1.00\n",
      "epoch  600 loss : [0.01841646]  Acc : 1.00\n",
      "epoch  700 loss : [0.00970679]  Acc : 1.00\n",
      "epoch  800 loss : [0.00622169]  Acc : 1.00\n",
      "epoch  900 loss : [0.00444833]  Acc : 1.00\n",
      "epoch 1000 loss : [0.0034068]   Acc : 1.00\n"
     ]
    }
   ],
   "source": [
    "net.train(x, y)"
   ]
  },
  {
   "cell_type": "code",
   "execution_count": 10,
   "metadata": {},
   "outputs": [
    {
     "data": {
      "image/png": "[encoded data removed]",
      "text/plain": [
       "<Figure size 432x288 with 2 Axes>"
      ]
     },
     "metadata": {
      "needs_background": "light"
     },
     "output_type": "display_data"
    }
   ],
   "source": [
    "show_result(x, y, net.query(x).round(0))"
   ]
  },
  {
   "cell_type": "code",
   "execution_count": 11,
   "metadata": {},
   "outputs": [
    {
     "name": "stdout",
     "output_type": "stream",
     "text": [
      "Groud truth vs Prediction\n",
      "[0] [0.03027025]\n",
      "[1] [0.99385731]\n",
      "[0] [0.01728851]\n",
      "[1] [0.99386918]\n",
      "[0] [0.01244453]\n",
      "[1] [0.99387934]\n",
      "[0] [0.01045102]\n",
      "[1] [0.99379519]\n",
      "[0] [0.00954018]\n",
      "[1] [0.97582134]\n",
      "[0] [0.00908997]\n",
      "[0] [0.00885544]\n",
      "[1] [0.97886803]\n",
      "[0] [0.00872909]\n",
      "[1] [0.99313598]\n",
      "[0] [0.00865951]\n",
      "[1] [0.99319672]\n",
      "[0] [0.00862063]\n",
      "[1] [0.99321073]\n",
      "[0] [0.00859867]\n",
      "[1] [0.9932242]\n"
     ]
    }
   ],
   "source": [
    "print('Groud truth vs Prediction')\n",
    "pred = net.query(x)\n",
    "for i in range(21):\n",
    "    print(y[i], pred[i])"
   ]
  },
  {
   "cell_type": "code",
   "execution_count": 12,
   "metadata": {},
   "outputs": [],
   "source": [
    "x, y = generate_linear(100)"
   ]
  },
  {
   "cell_type": "code",
   "execution_count": 13,
   "metadata": {},
   "outputs": [
    {
     "data": {
      "image/png": "[encoded data removed]",
      "text/plain": [
       "<Figure size 432x432 with 1 Axes>"
      ]
     },
     "metadata": {
      "needs_background": "light"
     },
     "output_type": "display_data"
    }
   ],
   "source": [
    "plt.figure(figsize=(6, 6))\n",
    "plt.scatter(x[np.where(y==1)[0], 0], x[np.where(y==1)[0], 1])\n",
    "plt.scatter(x[np.where(y==0)[0], 0], x[np.where(y==0)[0], 1])\n",
    "plt.show()"
   ]
  },
  {
   "cell_type": "code",
   "execution_count": 14,
   "metadata": {},
   "outputs": [],
   "source": [
    "net = Net(2, 3, 3, 1, 0.01)"
   ]
  },
  {
   "cell_type": "code",
   "execution_count": 15,
   "metadata": {},
   "outputs": [
    {
     "name": "stdout",
     "output_type": "stream",
     "text": [
      "epoch  100 loss : [5.00393229]  Acc : 0.99\n",
      "epoch  200 loss : [1.14552815]  Acc : 1.00\n",
      "epoch  300 loss : [0.61217366]  Acc : 1.00\n",
      "epoch  400 loss : [0.39562907]  Acc : 1.00\n",
      "epoch  500 loss : [0.27880778]  Acc : 1.00\n",
      "epoch  600 loss : [0.20730894]  Acc : 1.00\n",
      "epoch  700 loss : [0.16016504]  Acc : 1.00\n",
      "epoch  800 loss : [0.12743941]  Acc : 1.00\n",
      "epoch  900 loss : [0.10382415]  Acc : 1.00\n",
      "epoch 1000 loss : [0.08624963]  Acc : 1.00\n"
     ]
    }
   ],
   "source": [
    "net.train(x, y)"
   ]
  },
  {
   "cell_type": "code",
   "execution_count": 16,
   "metadata": {},
   "outputs": [
    {
     "data": {
      "image/png": "[encoded data removed]",
      "text/plain": [
       "<Figure size 432x288 with 2 Axes>"
      ]
     },
     "metadata": {
      "needs_background": "light"
     },
     "output_type": "display_data"
    }
   ],
   "source": [
    "show_result(x, y, net.query(x).round(0))"
   ]
  },
  {
   "cell_type": "code",
   "execution_count": 17,
   "metadata": {},
   "outputs": [
    {
     "name": "stdout",
     "output_type": "stream",
     "text": [
      "Groud truth vs Prediction\n",
      "[0] [0.00909511]\n",
      "[0] [0.01248209]\n",
      "[0] [0.00953609]\n",
      "[0] [0.00967805]\n",
      "[1] [0.98509335]\n",
      "[0] [0.00908472]\n",
      "[0] [0.01005596]\n",
      "[1] [0.98441421]\n",
      "[1] [0.98513615]\n",
      "[1] [0.98497627]\n",
      "[1] [0.9849444]\n",
      "[0] [0.00909763]\n",
      "[1] [0.98510502]\n",
      "[0] [0.00944754]\n",
      "[1] [0.98088039]\n",
      "[0] [0.0091335]\n",
      "[0] [0.00912901]\n",
      "[1] [0.9849574]\n",
      "[1] [0.98513686]\n",
      "[1] [0.98512933]\n",
      "[1] [0.98507896]\n"
     ]
    }
   ],
   "source": [
    "print('Groud truth vs Prediction')\n",
    "pred = net.query(x)\n",
    "for i in range(21):\n",
    "    print(y[i], pred[i])"
   ]
  },
  {
   "cell_type": "code",
   "execution_count": null,
   "metadata": {},
   "outputs": [],
   "source": []
  }
 ],
 "metadata": {
  "kernelspec": {
   "display_name": "Python 3",
   "language": "python",
   "name": "python3"
  },
  "language_info": {
   "codemirror_mode": {
    "name": "ipython",
    "version": 3
   },
   "file_extension": ".py",
   "mimetype": "text/x-python",
   "name": "python",
   "nbconvert_exporter": "python",
   "pygments_lexer": "ipython3",
   "version": "3.6.8"
  }
 },
 "nbformat": 4,
 "nbformat_minor": 2
}
